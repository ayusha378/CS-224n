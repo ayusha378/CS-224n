{
 "cells": [
  {
   "cell_type": "code",
   "execution_count": 3,
   "metadata": {},
   "outputs": [
    {
     "name": "stdout",
     "output_type": "stream",
     "text": [
      "['blowfish', 'clownfish', 'catfish', 'octopus', 'Devanshu', 'Ayush', 'Tupagra', 'Kushagra']\n"
     ]
    }
   ],
   "source": [
    "fish_tuple = (('blowfish', 'clownfish', 'catfish', 'octopus'),(\"Devanshu\",\"Ayush\",\"Tupagra\",\"Kushagra\"))\n",
    "\n",
    "fish_list = [y for x in fish_tuple for y in x]\n",
    "print(fish_list)"
   ]
  },
  {
   "cell_type": "code",
   "execution_count": null,
   "metadata": {},
   "outputs": [],
   "source": []
  }
 ],
 "metadata": {
  "kernelspec": {
   "display_name": "Python 3",
   "language": "python",
   "name": "python3"
  },
  "language_info": {
   "codemirror_mode": {
    "name": "ipython",
    "version": 3
   },
   "file_extension": ".py",
   "mimetype": "text/x-python",
   "name": "python",
   "nbconvert_exporter": "python",
   "pygments_lexer": "ipython3",
   "version": "3.7.3"
  }
 },
 "nbformat": 4,
 "nbformat_minor": 2
}
